{
 "cells": [
  {
   "cell_type": "code",
   "execution_count": 2,
   "id": "0bf4bf0b-b702-41c3-b0c4-01bccb32e571",
   "metadata": {},
   "outputs": [],
   "source": [
    "from lxml import etree\n",
    "import os\n",
    "\n",
    "# Replace 'your_input_file.xml' with the path to your XML file\n",
    "input_file = '../data/appeals_orig/EPDecisions.xml'\n",
    "\n",
    "# Define the keywords to search for\n",
    "keywords = [\"inventive step\", \"Erfinderische Tätigkeit\", \"Erfinderischer Tätigkeit\", \"Activité inventive\"]\n",
    "\n",
    "# Parse the input XML\n",
    "tree = etree.parse(input_file)\n",
    "root = tree.getroot()\n",
    "\n",
    "# Create a directory to store the output files, if it doesn't already exist\n",
    "output_dir = 'ep_appeal_decisions'\n",
    "os.makedirs(output_dir, exist_ok=True)\n",
    "\n",
    "# Iterate through each <ep-appeal-decision> element\n",
    "for decision in root.findall('.//ep-appeal-decision'):\n",
    "    # Convert the element to a string\n",
    "    decision_text = etree.tostring(decision.find('.//ep-reasons-for-decision'), encoding='unicode')\n",
    "    # Check if the element contains any of the keywords\n",
    "    if any(keyword in decision_text for keyword in keywords):\n",
    "        # Extract the ECLI identifier from the <ep-ecli> tag\n",
    "        ecli_element = decision.find('.//ep-ecli')\n",
    "        if ecli_element is not None:\n",
    "            ecli = ecli_element.text\n",
    "            # Format the ECLI identifier to create a filename\n",
    "            filename = ecli.replace(':', '_') + '.xml'\n",
    "            # Save the element to a new XML file in the output directory\n",
    "            with open(os.path.join(output_dir, filename), 'w', encoding='utf-8') as f:\n",
    "                f.write('<?xml version=\"1.0\" encoding=\"UTF-8\"?>\\n')\n",
    "                f.write(etree.tostring(decision, pretty_print=True, encoding='unicode'))"
   ]
  },
  {
   "cell_type": "code",
   "execution_count": null,
   "id": "c12456cd-2ca8-4f1a-b8b5-844995dd95c6",
   "metadata": {},
   "outputs": [],
   "source": []
  }
 ],
 "metadata": {
  "kernelspec": {
   "display_name": "Python 3 (ipykernel)",
   "language": "python",
   "name": "python3"
  },
  "language_info": {
   "codemirror_mode": {
    "name": "ipython",
    "version": 3
   },
   "file_extension": ".py",
   "mimetype": "text/x-python",
   "name": "python",
   "nbconvert_exporter": "python",
   "pygments_lexer": "ipython3",
   "version": "3.8.17"
  }
 },
 "nbformat": 4,
 "nbformat_minor": 5
}
