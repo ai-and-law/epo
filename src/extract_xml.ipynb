{
 "cells": [
  {
   "cell_type": "code",
   "execution_count": 1,
   "id": "0bf4bf0b-b702-41c3-b0c4-01bccb32e571",
   "metadata": {},
   "outputs": [
    {
     "ename": "TypeError",
     "evalue": "Type 'NoneType' cannot be serialized.",
     "output_type": "error",
     "traceback": [
      "\u001b[0;31m---------------------------------------------------------------------------\u001b[0m",
      "\u001b[0;31mTypeError\u001b[0m                                 Traceback (most recent call last)",
      "Cell \u001b[0;32mIn[1], line 21\u001b[0m\n\u001b[1;32m     18\u001b[0m \u001b[38;5;66;03m# Iterate through each <ep-appeal-decision> element\u001b[39;00m\n\u001b[1;32m     19\u001b[0m \u001b[38;5;28;01mfor\u001b[39;00m decision \u001b[38;5;129;01min\u001b[39;00m root\u001b[38;5;241m.\u001b[39mfindall(\u001b[38;5;124m'\u001b[39m\u001b[38;5;124m.//ep-appeal-decision\u001b[39m\u001b[38;5;124m'\u001b[39m):\n\u001b[1;32m     20\u001b[0m     \u001b[38;5;66;03m# Convert the element to a string\u001b[39;00m\n\u001b[0;32m---> 21\u001b[0m     decision_text \u001b[38;5;241m=\u001b[39m \u001b[43metree\u001b[49m\u001b[38;5;241;43m.\u001b[39;49m\u001b[43mtostring\u001b[49m\u001b[43m(\u001b[49m\u001b[43mdecision\u001b[49m\u001b[38;5;241;43m.\u001b[39;49m\u001b[43mfind\u001b[49m\u001b[43m(\u001b[49m\u001b[38;5;124;43m'\u001b[39;49m\u001b[38;5;124;43m.//ep-reasons-for-decision\u001b[39;49m\u001b[38;5;124;43m'\u001b[39;49m\u001b[43m)\u001b[49m\u001b[43m,\u001b[49m\u001b[43m \u001b[49m\u001b[43mencoding\u001b[49m\u001b[38;5;241;43m=\u001b[39;49m\u001b[38;5;124;43m'\u001b[39;49m\u001b[38;5;124;43municode\u001b[39;49m\u001b[38;5;124;43m'\u001b[39;49m\u001b[43m)\u001b[49m\n\u001b[1;32m     22\u001b[0m     \u001b[38;5;66;03m# Check if the element contains any of the keywords\u001b[39;00m\n\u001b[1;32m     23\u001b[0m     \u001b[38;5;28;01mif\u001b[39;00m \u001b[38;5;28many\u001b[39m(keyword \u001b[38;5;129;01min\u001b[39;00m decision_text \u001b[38;5;28;01mfor\u001b[39;00m keyword \u001b[38;5;129;01min\u001b[39;00m keywords):\n\u001b[1;32m     24\u001b[0m         \u001b[38;5;66;03m# Extract the ECLI identifier from the <ep-ecli> tag\u001b[39;00m\n",
      "File \u001b[0;32msrc/lxml/etree.pyx:3471\u001b[0m, in \u001b[0;36mlxml.etree.tostring\u001b[0;34m()\u001b[0m\n",
      "\u001b[0;31mTypeError\u001b[0m: Type 'NoneType' cannot be serialized."
     ]
    }
   ],
   "source": [
    "from lxml import etree\n",
    "import os\n",
    "\n",
    "# Replace 'your_input_file.xml' with the path to your XML file\n",
    "input_file = '../data/appeals_orig/EPDecisions.xml'\n",
    "\n",
    "# Define the keywords to search for\n",
    "keywords = [\"inventive step\", \"Erfinderische Tätigkeit\", \"Erfinderischer Tätigkeit\", \"Activité inventive\"]\n",
    "\n",
    "# Parse the input XML\n",
    "tree = etree.parse(input_file)\n",
    "root = tree.getroot()\n",
    "\n",
    "# Create a directory to store the output files, if it doesn't already exist\n",
    "output_dir = 'ep_appeal_decisions'\n",
    "os.makedirs(output_dir, exist_ok=True)\n",
    "\n",
    "# Iterate through each <ep-appeal-decision> element\n",
    "for decision in root.findall('.//ep-appeal-decision'):\n",
    "    # Convert the element to a string\n",
    "    decision_text = etree.tostring(decision.find('.//ep-reasons-for-decision'), encoding='unicode')\n",
    "    # Check if the element contains any of the keywords\n",
    "    if any(keyword in decision_text for keyword in keywords):\n",
    "        # Extract the ECLI identifier from the <ep-ecli> tag\n",
    "        ecli_element = decision.find('.//ep-ecli')\n",
    "        if ecli_element is not None:\n",
    "            ecli = ecli_element.text\n",
    "            # Format the ECLI identifier to create a filename\n",
    "            filename = ecli.replace(':', '_') + '.xml'\n",
    "            # Save the element to a new XML file in the output directory\n",
    "            with open(os.path.join(output_dir, filename), 'w', encoding='utf-8') as f:\n",
    "                f.write('<?xml version=\"1.0\" encoding=\"UTF-8\"?>\\n')\n",
    "                f.write(etree.tostring(decision, pretty_print=True, encoding='unicode'))"
   ]
  },
  {
   "cell_type": "code",
   "execution_count": null,
   "id": "c12456cd-2ca8-4f1a-b8b5-844995dd95c6",
   "metadata": {},
   "outputs": [],
   "source": []
  }
 ],
 "metadata": {
  "kernelspec": {
   "display_name": "Python 3 (ipykernel)",
   "language": "python",
   "name": "python3"
  },
  "language_info": {
   "codemirror_mode": {
    "name": "ipython",
    "version": 3
   },
   "file_extension": ".py",
   "mimetype": "text/x-python",
   "name": "python",
   "nbconvert_exporter": "python",
   "pygments_lexer": "ipython3",
   "version": "3.8.17"
  }
 },
 "nbformat": 4,
 "nbformat_minor": 5
}
